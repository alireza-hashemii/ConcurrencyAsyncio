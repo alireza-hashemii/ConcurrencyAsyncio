{
 "cells": [
  {
   "cell_type": "markdown",
   "metadata": {},
   "source": [
    "Following code must return the add_by_1's response while 4 seconds in the first coroutine is passing. But this doesn't happen since there is await expression witch doesn't allow rest of the code in the main coroutine to be run."
   ]
  },
  {
   "cell_type": "code",
   "execution_count": null,
   "metadata": {},
   "outputs": [],
   "source": [
    "import asyncio\n",
    "import time\n",
    "from util import delay\n",
    "async def powered_by_2(number: int) -> int:\n",
    "    time.sleep(4)\n",
    "    return number ** 2\n",
    "\n",
    "async def add_by_1(number: int) -> int:\n",
    "    return number + 1\n",
    "\n",
    "async def main() -> None:\n",
    "    powered_return = await powered_by_2(2)\n",
    "    added_return = await add_by_1(2) \n",
    "\n",
    "    print(powered_return)\n",
    "    print(added_return)\n",
    "\n",
    "await main()\n"
   ]
  },
  {
   "cell_type": "code",
   "execution_count": null,
   "metadata": {},
   "outputs": [],
   "source": [
    "async def main():\n",
    "    sleep_for_three = asyncio.create_task(delay.delay(3))\n",
    "    print(type(sleep_for_three))\n",
    "    result = await sleep_for_three\n",
    "    print(\"Get's run faster.\")\n",
    "    print(result)\n",
    "\n",
    "await main()"
   ]
  },
  {
   "cell_type": "markdown",
   "metadata": {},
   "source": [
    "In the code below we are running 3 tasks cuncurrently. while 3 seconds is passing , coroutine hello_every_second gets run. and right after it finishes you can see that our 2 tasks have been finished."
   ]
  },
  {
   "cell_type": "code",
   "execution_count": 3,
   "metadata": {},
   "outputs": [
    {
     "name": "stdout",
     "output_type": "stream",
     "text": [
      "delay is running for 3 second(s)\n",
      "delay is running for 3 second(s)\n",
      "I'm running other code while I'm waiting!\n",
      "I'm running other code while I'm waiting!\n",
      "delay for 3 second(s) is finished\n",
      "delay for 3 second(s) is finished\n"
     ]
    }
   ],
   "source": [
    "async def hello_every_second():\n",
    " \n",
    " for i in range(2):\n",
    "    await asyncio.sleep(1)\n",
    "    print(\"I'm running other code while I'm waiting!\")\n",
    "\n",
    "async def main():\n",
    "    first_delay = asyncio.create_task(delay.delay(3))\n",
    "    second_delay = asyncio.create_task(delay.delay(3))\n",
    "    await hello_every_second()\n",
    "    await first_delay\n",
    "    await second_delay\n",
    "    \n",
    "await main()"
   ]
  },
  {
   "cell_type": "code",
   "execution_count": null,
   "metadata": {},
   "outputs": [],
   "source": [
    "import asyncio\n",
    "from asyncio import CancelledError\n",
    "from util import delay\n",
    "\n",
    "async def main():\n",
    "    long_task = asyncio.create_task(delay.delay(10))\n",
    "    seconds_elapsed = 0\n",
    "\n",
    "    while not long_task.done():\n",
    "        print('Task not finished, checking again in a second.')\n",
    "        await asyncio.sleep(1)\n",
    "        seconds_elapsed = seconds_elapsed + 1\n",
    "        if seconds_elapsed == 5:\n",
    "            long_task.cancel()\n",
    "    try:\n",
    "        await long_task\n",
    "    except CancelledError:\n",
    "        print('Our task was cancelled')\n",
    "\n",
    "\n",
    "await main()"
   ]
  },
  {
   "cell_type": "code",
   "execution_count": null,
   "metadata": {},
   "outputs": [],
   "source": [
    "import asyncio\n",
    "from util import delay\n",
    "\n",
    "async def main():\n",
    "    delay_task = asyncio.create_task(delay.delay(8))\n",
    "\n",
    "    try:\n",
    "        result = await asyncio.wait_for(delay_task, timeout=4)\n",
    "        print(result)\n",
    "        \n",
    "    except asyncio.exceptions.TimeoutError:\n",
    "        print('Got a timeout!')\n",
    "        print(f'Was the task cancelled? {delay_task.cancelled()}')\n",
    "\n",
    "await main()"
   ]
  },
  {
   "cell_type": "code",
   "execution_count": null,
   "metadata": {},
   "outputs": [],
   "source": [
    "import asyncio\n",
    "from util import delay\n",
    "\n",
    "async def main():\n",
    "    task = asyncio.create_task(delay.delay(10))\n",
    "    try:\n",
    "        result = await asyncio.wait_for(asyncio.shield(task), 5)\n",
    "        print(result)\n",
    "\n",
    "    except asyncio.exceptions.TimeoutError:\n",
    "        print(\"Task took longer than five seconds, it will finish soon!\")\n",
    "        result = await task\n",
    "        print(result)\n",
    "\n",
    "await main()\n"
   ]
  },
  {
   "cell_type": "code",
   "execution_count": null,
   "metadata": {},
   "outputs": [],
   "source": [
    "from asyncio import Future\n",
    "import asyncio\n",
    "\n",
    "def make_request() -> Future:\n",
    "    future = Future()\n",
    "    asyncio.create_task(set_future_value(future)) \n",
    "    return future\n",
    "\n",
    "async def set_future_value(future) -> None:\n",
    "    await asyncio.sleep(1) \n",
    "    future.set_result(42)\n",
    "\n",
    "async def main():\n",
    "    future = make_request()\n",
    "    print(f'Is the future done? {future.done()}')\n",
    "    value = await future \n",
    "    print(f'Is the future done? {future.done()}')\n",
    "    print(value)\n",
    "\n",
    "await main()"
   ]
  }
 ],
 "metadata": {
  "kernelspec": {
   "display_name": "Python 3",
   "language": "python",
   "name": "python3"
  },
  "language_info": {
   "codemirror_mode": {
    "name": "ipython",
    "version": 3
   },
   "file_extension": ".py",
   "mimetype": "text/x-python",
   "name": "python",
   "nbconvert_exporter": "python",
   "pygments_lexer": "ipython3",
   "version": "3.10.5"
  }
 },
 "nbformat": 4,
 "nbformat_minor": 2
}
