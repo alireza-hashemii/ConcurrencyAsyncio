{
 "cells": [
  {
   "cell_type": "code",
   "execution_count": null,
   "metadata": {},
   "outputs": [],
   "source": [
    "import asyncio\n",
    "import aiohttp\n",
    "from aiohttp import ClientSession\n",
    "\n",
    "async def fetch_status(session: ClientSession, url: str) -> int:\n",
    "    ten_millis = aiohttp.ClientTimeout(total=.01)\n",
    "    async with session.get(url, timeout=ten_millis) as result:\n",
    "        return result.status\n",
    "    \n",
    "\n",
    "async def main():\n",
    "    session_timeout = aiohttp.ClientTimeout(total=1, connect=.01)\n",
    "    async with aiohttp.ClientSession(timeout=session_timeout) as session:\n",
    "        await fetch_status(session, 'https://example.com')\n",
    "\n"
   ]
  }
 ],
 "metadata": {
  "kernelspec": {
   "display_name": "Python 3",
   "language": "python",
   "name": "python3"
  },
  "language_info": {
   "codemirror_mode": {
    "name": "ipython",
    "version": 3
   },
   "file_extension": ".py",
   "mimetype": "text/x-python",
   "name": "python",
   "nbconvert_exporter": "python",
   "pygments_lexer": "ipython3",
   "version": "3.10.5"
  }
 },
 "nbformat": 4,
 "nbformat_minor": 2
}
