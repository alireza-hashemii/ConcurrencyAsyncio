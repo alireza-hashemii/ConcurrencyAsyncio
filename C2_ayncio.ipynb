{
 "cells": [
  {
   "cell_type": "markdown",
   "metadata": {},
   "source": [
    "Following code must return the add_by_1's response while 4 seconds in the first coroutine is passing. But this doesn't happen since there is await expression witch doesn't allow rest of the code in the main coroutine to be run."
   ]
  },
  {
   "cell_type": "code",
   "execution_count": null,
   "metadata": {},
   "outputs": [],
   "source": [
    "import asyncio\n",
    "import time\n",
    "from util import delay\n",
    "async def powered_by_2(number: int) -> int:\n",
    "    time.sleep(4)\n",
    "    return number ** 2\n",
    "\n",
    "async def add_by_1(number: int) -> int:\n",
    "    return number + 1\n",
    "\n",
    "async def main() -> None:\n",
    "    powered_return = await powered_by_2(2)\n",
    "    added_return = await add_by_1(2) \n",
    "\n",
    "    print(powered_return)\n",
    "    print(added_return)\n",
    "\n",
    "await main()\n"
   ]
  },
  {
   "cell_type": "code",
   "execution_count": null,
   "metadata": {},
   "outputs": [],
   "source": [
    "async def main():\n",
    "    sleep_for_three = asyncio.create_task(delay.delay(3))\n",
    "    print(type(sleep_for_three))\n",
    "    result = await sleep_for_three\n",
    "    print(\"Get's run faster.\")\n",
    "    print(result)\n",
    "\n",
    "await main()"
   ]
  },
  {
   "cell_type": "markdown",
   "metadata": {},
   "source": [
    "In the code below we are running 3 tasks cuncurrently. while 3 seconds is passing , coroutine hello_every_second gets run. and right after it finishes you can see that our 2 tasks have been finished."
   ]
  },
  {
   "cell_type": "code",
   "execution_count": null,
   "metadata": {},
   "outputs": [],
   "source": [
    "async def hello_every_second():\n",
    " \n",
    " for i in range(2):\n",
    "    await asyncio.sleep(1)\n",
    "    print(\"I'm running other code while I'm waiting!\")\n",
    "\n",
    "async def main():\n",
    "    first_delay = asyncio.create_task(delay.delay(3))\n",
    "    second_delay = asyncio.create_task(delay.delay(3))\n",
    "    await hello_every_second()\n",
    "    await first_delay\n",
    "    await second_delay\n",
    "\n",
    "await main()"
   ]
  }
 ],
 "metadata": {
  "kernelspec": {
   "display_name": "Python 3",
   "language": "python",
   "name": "python3"
  },
  "language_info": {
   "codemirror_mode": {
    "name": "ipython",
    "version": 3
   },
   "file_extension": ".py",
   "mimetype": "text/x-python",
   "name": "python",
   "nbconvert_exporter": "python",
   "pygments_lexer": "ipython3",
   "version": "3.10.5"
  }
 },
 "nbformat": 4,
 "nbformat_minor": 2
}
