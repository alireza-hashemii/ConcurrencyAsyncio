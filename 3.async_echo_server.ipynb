{
 "cells": [
  {
   "cell_type": "code",
   "execution_count": null,
   "metadata": {},
   "outputs": [],
   "source": [
    "import socket\n",
    "\n",
    "# making a server socket(AF_INET:  tells us what type of address our socket will be able to interact with; in this case a\n",
    "# hostname and a port number ,  SOCK_STREAM: this means that we\n",
    "# use the TCP protocol for our communication)\n",
    "server_socket = socket.socket(socket.AF_INET, socket.SOCK_STREAM)\n",
    "# SO_REUSEADDR flag to 1. This will allow us to reuse\n",
    "# the port number after we stop and restart the application\n",
    "server_socket.setsockopt(socket.SOL_SOCKET, socket.SO_REUSEADDR, 1)\n",
    "\n",
    "address = ('127.0.0.1', 8000)\n",
    "server_socket.bind(((address[0]),address[1]))\n",
    "\n",
    "\n",
    "server_socket.listen()\n",
    "try:\n",
    "    connection, client_address = server_socket.accept()\n",
    "    print(f'I got a connection from {client_address}!')\n",
    "\n",
    "    buffer = b''\n",
    "    while buffer[-2:] != b'\\r\\n':\n",
    "        data = connection.recv(2)\n",
    "        if not data:\n",
    "            break\n",
    "        else:\n",
    "            print(f'I got data : {data}')\n",
    "            buffer = buffer + data\n",
    "    print(f\"All the data is: {buffer}\")\n",
    "    connection.sendall(buffer)\n",
    "finally:\n",
    "        server_socket.close()"
   ]
  }
 ],
 "metadata": {
  "kernelspec": {
   "display_name": "Python 3",
   "language": "python",
   "name": "python3"
  },
  "language_info": {
   "codemirror_mode": {
    "name": "ipython",
    "version": 3
   },
   "file_extension": ".py",
   "mimetype": "text/x-python",
   "name": "python",
   "nbconvert_exporter": "python",
   "pygments_lexer": "ipython3",
   "version": "3.10.5"
  }
 },
 "nbformat": 4,
 "nbformat_minor": 2
}
